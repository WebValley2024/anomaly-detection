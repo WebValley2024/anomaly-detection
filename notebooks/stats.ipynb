{
 "cells": [
  {
   "cell_type": "code",
   "execution_count": null,
   "metadata": {},
   "outputs": [],
   "source": [
    "import os\n",
    "import numpy as np\n",
    "import matplotlib.pyplot as plt\n",
    "import xarray as xr\n",
    "\n",
    "from efdpy.utils import parse_CSES_filename, glob\n",
    "import normalizer as norm"
   ]
  },
  {
   "cell_type": "code",
   "execution_count": null,
   "metadata": {},
   "outputs": [],
   "source": [
    "data_folder = \"/home/wvuser/HEPP_L/\"\n",
    "test_files = glob(data_folder + \"*.zarr.zip\")\n",
    "path = test_files[0]\n",
    "\n",
    "info = parse_CSES_filename(path.split(os.sep)[-1].split(\".\")[0]+\".h5\")\n",
    "info"
   ]
  },
  {
   "cell_type": "code",
   "execution_count": null,
   "metadata": {},
   "outputs": [],
   "source": [
    "f = xr.open_zarr(path)\n",
    "f"
   ]
  },
  {
   "cell_type": "code",
   "execution_count": null,
   "metadata": {},
   "outputs": [],
   "source": [
    "def check_peaks(thres):\n",
    "\tc = 0\n",
    "\tfor i in test_files:\t\n",
    "\t\tf = xr.open_zarr(i)\n",
    "\t\t\n",
    "\t\tdata = np.array([np.median(i) for i in f[\"Count_Electron\"].values])\n",
    "\t\t\n",
    "\t\tavg = data.mean()\n",
    "\n",
    "\t\tif abs(data[0]) > (avg * thres):\n",
    "\t\t\tc += 1\n",
    "\n",
    "\treturn int(c / len(test_files) * 100)"
   ]
  },
  {
   "cell_type": "code",
   "execution_count": null,
   "metadata": {},
   "outputs": [],
   "source": [
    "def plot_payloads(f):\n",
    "\tplt.subplots(figsize=(5, 5))\n",
    "\t\n",
    "\tt = [norm.cses_to_unix(i) for i in f[\"UTC_TIME\"].values.flatten()]\n",
    "\tx = [np.max(i) for i in f[\"Count_Electron\"].values]\n",
    "\t\n",
    "\tti, da = pre.sample(t, x, 10)\n",
    "\n",
    "\tplt.plot(ti, da, color='orange')\n",
    "\tplt.legend()\n",
    "\tplt.show()"
   ]
  },
  {
   "cell_type": "code",
   "execution_count": null,
   "metadata": {},
   "outputs": [],
   "source": [
    "# TEST\n",
    "for i in test_files[0:10]:\n",
    "\tf = xr.open_zarr(i)\n",
    "\n",
    "\tplot_payloads(f)"
   ]
  }
 ],
 "metadata": {
  "kernelspec": {
   "display_name": ".venv",
   "language": "python",
   "name": "python3"
  },
  "language_info": {
   "codemirror_mode": {
    "name": "ipython",
    "version": 3
   },
   "file_extension": ".py",
   "mimetype": "text/x-python",
   "name": "python",
   "nbconvert_exporter": "python",
   "pygments_lexer": "ipython3",
   "version": "3.12.3"
  }
 },
 "nbformat": 4,
 "nbformat_minor": 2
}
