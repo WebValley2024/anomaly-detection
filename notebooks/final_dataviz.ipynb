{
 "cells": [
  {
   "cell_type": "code",
   "execution_count": null,
   "metadata": {},
   "outputs": [],
   "source": [
    "import xarray as xr\n",
    "import matplotlib.pyplot as plt\n",
    "import pandas as pd"
   ]
  },
  {
   "cell_type": "code",
   "execution_count": null,
   "metadata": {},
   "outputs": [],
   "source": [
    "p = \"/final/HEPP_X.zarr.zip\"\n",
    "\n",
    "f = xr.open_zarr(p)\n",
    "\n",
    "# there are some negative values, for now we remove them\n",
    "xray = f[\"XrayRate\"].values\n",
    "c = 0\n",
    "avg = xray.mean()\n",
    "for i in range(len(xray)):\n",
    "\tif xray[i] < 0:\n",
    "\t\txray[i] = avg\n",
    "\t\tc+= 1\n",
    "print(c)\n",
    "\n",
    "plt.subplots(figsize=(10,5))\n",
    "plt.plot(f[\"TIME\"], xray)\n",
    "\n",
    "len(f[\"TIME\"].values)"
   ]
  },
  {
   "cell_type": "code",
   "execution_count": null,
   "metadata": {},
   "outputs": [],
   "source": [
    "p = \"/final/HEPP_H.zarr.zip\"\n",
    "\n",
    "f = xr.open_zarr(p)\n",
    "\n",
    "plt.subplots(figsize=(10,5))\n",
    "plt.plot(f[\"TIME\"], f[\"Count_Electron\"])\n",
    "plt.plot(f[\"TIME\"], f[\"Count_Proton\"])\n",
    "plt.show()\n",
    "\n",
    "len(f[\"TIME\"].values)"
   ]
  },
  {
   "cell_type": "code",
   "execution_count": null,
   "metadata": {},
   "outputs": [],
   "source": [
    "p = \"/final/HEPD.zarr.zip\"\n",
    "\n",
    "f = xr.open_zarr(p)\n",
    "\n",
    "plt.subplots(figsize=(10,5))\n",
    "plt.plot(f[\"TIME\"], f[\"Count_Proton\"])\n",
    "plt.show()\n",
    "\n",
    "len(f[\"TIME\"].values)\n",
    "\n",
    "f.keys()\n"
   ]
  },
  {
   "cell_type": "code",
   "execution_count": null,
   "metadata": {},
   "outputs": [],
   "source": [
    "p = \"/final/LAP.zarr.zip\"\n",
    "\n",
    "f = xr.open_zarr(p)\n",
    "\n",
    "plt.subplots(figsize=(10,5))\n",
    "plt.plot(f[\"TIME\"], f[\"A311\"])\n",
    "plt.plot(f[\"TIME\"], f[\"A321\"])\n",
    "plt.show()\n",
    "\n",
    "len(f[\"TIME\"].values)"
   ]
  }
 ],
 "metadata": {
  "kernelspec": {
   "display_name": ".venv",
   "language": "python",
   "name": "python3"
  },
  "language_info": {
   "codemirror_mode": {
    "name": "ipython",
    "version": 3
   },
   "file_extension": ".py",
   "mimetype": "text/x-python",
   "name": "python",
   "nbconvert_exporter": "python",
   "pygments_lexer": "ipython3",
   "version": "3.11.7"
  }
 },
 "nbformat": 4,
 "nbformat_minor": 2
}
