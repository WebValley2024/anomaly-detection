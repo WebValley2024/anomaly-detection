{
 "cells": [
  {
   "cell_type": "markdown",
   "metadata": {},
   "source": [
    "## HEPPL\n",
    "- Count electron (N * 9)\n",
    "- Count proton (N * 9)\n",
    "\n",
    "- A411 (N * 256 * 9) -> (N * 3 * 9)\n",
    "- A412 (N * 256 * 9) -> (N * 3 * 9)\n",
    "\n",
    "## HEPPH\n",
    "- Count electron (N * 1)\n",
    "- Count proton (N * 1)\n",
    "\n",
    "- A411 (N * 256 * 36) -> (N * 3 * 9)\n",
    "- A412 (N * 256 * 36) -> (N * 3 * 9)\n",
    "\n",
    "## HEPD\n",
    "- Count electron (N * 1)\n",
    "- Count proton (N * 1)\n",
    "\n",
    "## HEPPX\n",
    "- XRayRate (N * 1)\n",
    "\n",
    "## EFD\n",
    "- A111_W (N * 256) -> (N * 1)\n",
    "- A112_W (N * 256) -> (N * 1)\n",
    "- A113_W (N * 256) -> (N * 1)\n",
    "- A111_P (N * 128) -> (N * 10)\n",
    "- A112_P (N * 128) -> (N * 10)\n",
    "- A113_P (N * 128) -> (N * 10)\n",
    "\n",
    "## LAP\n",
    "- Te (N * 1)\n",
    "- Ne (N * 1)"
   ]
  }
 ],
 "metadata": {
  "kernelspec": {
   "display_name": ".venv",
   "language": "python",
   "name": "python3"
  },
  "language_info": {
   "name": "python",
   "version": "3.12.3"
  }
 },
 "nbformat": 4,
 "nbformat_minor": 2
}
