{
 "cells": [
  {
   "cell_type": "code",
   "execution_count": null,
   "metadata": {},
   "outputs": [],
   "source": [
    "import xarray as xr\n",
    "import os\n",
    "from tqdm import tqdm\n",
    "import normalizer as norm\n",
    "import zipfile"
   ]
  },
  {
   "cell_type": "code",
   "execution_count": null,
   "metadata": {},
   "outputs": [],
   "source": [
    "def get_files(directory):\n",
    "      filelist = []\n",
    "      \n",
    "      for root, dirs, files in os.walk(directory):\n",
    "            for f in files:\n",
    "                 filelist.append(os.path.join(root, f))\n",
    "\n",
    "      return filelist"
   ]
  },
  {
   "cell_type": "code",
   "execution_count": null,
   "metadata": {},
   "outputs": [],
   "source": [
    "def get_night_orbit_files(filelist):\n",
    "    l = []\n",
    "\n",
    "    for path in tqdm(filelist, desc=\"Removing day orbit files\"):\n",
    "        orbit = int(path.split(\"/\")[-1].split(\"_\")[6][-1])\n",
    "        if orbit == 1:\n",
    "            l.append(path)\n",
    "\n",
    "    return l"
   ]
  },
  {
   "cell_type": "code",
   "execution_count": null,
   "metadata": {},
   "outputs": [],
   "source": [
    "def get_complete_files(filelist):\n",
    "    l = []\n",
    "\n",
    "    for path in tqdm(filelist, desc=\"Removing incomplete files\"):\n",
    "        try:\n",
    "            f = xr.open_zarr(path)\n",
    "        except zipfile.BadZipFile:\n",
    "            continue\n",
    "\n",
    "        try:\n",
    "            t = f[\"VERSE_TIME\"].values\n",
    "        except KeyError:\n",
    "            t = [norm.cses_to_unix(i) for i in f[\"UTCTime\"].values.flatten()]\n",
    "\n",
    "        if abs(t[-1] - t[0]) > 2000:\n",
    "            l.append(path)\n",
    "\n",
    "    return l"
   ]
  },
  {
   "cell_type": "code",
   "execution_count": null,
   "metadata": {},
   "outputs": [],
   "source": [
    "def remove_invalid_lat_lon(filelist):\n",
    "    l = []\n",
    "    \n",
    "    for path in tqdm(filelist, desc=\"Removing invalid coordinates\"):\n",
    "        try:\n",
    "            f = xr.open_zarr(path)\n",
    "        except zipfile.BadZipFile:\n",
    "            continue\n",
    "\n",
    "        try:\n",
    "            if not (any(abs(lat) > 90 for lat in f['GEO_LAT'].values) or any(abs(lon) > 180 for lon in f['GEO_LON'].values)):\n",
    "                l.append(path)\n",
    "\n",
    "        except KeyError:\n",
    "            if not any(abs(lat) > 90 for lat in f['LonLat'].values[:, 1].squeeze()) or any(abs(lon) > 180 for lon in f['LonLat'].values[:, 0].squeeze()):\n",
    "                l.append(path)\n",
    "\n",
    "    return l"
   ]
  },
  {
   "cell_type": "code",
   "execution_count": null,
   "metadata": {},
   "outputs": [],
   "source": [
    "def remove_nan_files(filelist):\n",
    "    l = []\n",
    "    \n",
    "    def extract_payload(filename: str):\n",
    "        filename = filename.split(\"/\")[-1]\n",
    "        if filename.startswith('CSES_HEP_DDD'):\n",
    "            return 'HEP_3'\n",
    "        return filename.split(\"_\")[2] + \"_\" + filename.split(\"_\")[3]\n",
    "\n",
    "    mod_payload_params = {\n",
    "        \"HEP_1\": [\"Count_Electron\", \"Count_Proton\", \"A411\", \"A412\"],\n",
    "        \"HEP_2\": [\"Count_Electron\", \"Count_Proton\", \"A411\", \"A412\"],\n",
    "        \"HEP_3\": [\"HEPD_ele_counts\", \"HEPD_pro_counts\"],\n",
    "        \"HEP_4\": [\"XrayRate\"],\n",
    "        \"EFD_1\": [\"A111_W\", \"A112_W\", \"A113_W\", \"A111_P\", \"A112_P\", \"A113_P\"],\n",
    "        \"LAP_1\": [\"A311\", \"A321\"],\n",
    "    }\n",
    "\n",
    "    for path in tqdm(filelist, desc=\"Removing NaN containing files\"):\n",
    "        try:\n",
    "            f = xr.open_zarr(path)\n",
    "        except zipfile.BadZipFile:\n",
    "            continue\n",
    "\n",
    "        for i in list(mod_payload_params[extract_payload(path)]):\n",
    "            try:\n",
    "                if not f[i].isnull().any():\n",
    "                    l.append(path)\n",
    "            except KeyError:\n",
    "                continue\n",
    "    \n",
    "    return l"
   ]
  },
  {
   "cell_type": "code",
   "execution_count": null,
   "metadata": {},
   "outputs": [],
   "source": [
    "def get_fixed_data(directory):\n",
    "    f1 = get_files(directory)\n",
    "    f2 = get_night_orbit_files(f1)\n",
    "    f3 = get_complete_files(f2)\n",
    "    f4 = remove_invalid_lat_lon(f3)\n",
    "    f5 = remove_nan_files(f4)\n",
    "\n",
    "    return f5"
   ]
  }
 ],
 "metadata": {
  "kernelspec": {
   "display_name": ".venv",
   "language": "python",
   "name": "python3"
  },
  "language_info": {
   "codemirror_mode": {
    "name": "ipython",
    "version": 3
   },
   "file_extension": ".py",
   "mimetype": "text/x-python",
   "name": "python",
   "nbconvert_exporter": "python",
   "pygments_lexer": "ipython3",
   "version": "3.11.7"
  }
 },
 "nbformat": 4,
 "nbformat_minor": 2
}
