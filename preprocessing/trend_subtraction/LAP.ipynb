{
 "cells": [
  {
   "cell_type": "code",
   "execution_count": 1,
   "metadata": {},
   "outputs": [],
   "source": [
    "import numpy as np\n",
    "import os\n",
    "import matplotlib.pyplot as plt\n",
    "import datetime\n",
    "import xarray as xr\n",
    "from scipy.optimize import curve_fit\n",
    "import pandas as pd\n",
    "from zarr import Blosc\n",
    "from functions import *\n",
    "\n",
    "START = 1577836861\n",
    "END = 1633042861"
   ]
  },
  {
   "cell_type": "code",
   "execution_count": 9,
   "metadata": {},
   "outputs": [],
   "source": [
    "# A311, A321"
   ]
  },
  {
   "cell_type": "code",
   "execution_count": 2,
   "metadata": {},
   "outputs": [],
   "source": [
    "data = xr.open_zarr(\"/home/grp3/gil/merged/LAP.zarr.zip\")\n",
    "data = drop_unwanted_data(data, START)\n",
    "range_data = drop_unwanted_data(data, end=END)\n",
    "data = data.sortby(\"TIME\")\n",
    "arr = block_coordinates(data)\n",
    "range_arr = block_coordinates(range_data)"
   ]
  },
  {
   "cell_type": "code",
   "execution_count": 5,
   "metadata": {},
   "outputs": [],
   "source": [
    "# A311\n",
    "\n",
    "mean_A311 = count_bg(range_data, range_arr, \"A311\")\n",
    "subtract_count_bg(data, arr, mean_A311, \"A311\")"
   ]
  },
  {
   "cell_type": "code",
   "execution_count": 6,
   "metadata": {},
   "outputs": [],
   "source": [
    "# A321\n",
    "\n",
    "mean_A321 = count_bg(range_data, range_arr, \"A321\")\n",
    "subtract_count_bg(data, arr, mean_A321, \"A321\")"
   ]
  },
  {
   "cell_type": "code",
   "execution_count": 7,
   "metadata": {},
   "outputs": [],
   "source": [
    "write_to_zarr(data, \"/home/grp3/rm_bg_4months/LAP.zarr.zip\")"
   ]
  }
 ],
 "metadata": {
  "kernelspec": {
   "display_name": ".venv",
   "language": "python",
   "name": "python3"
  },
  "language_info": {
   "codemirror_mode": {
    "name": "ipython",
    "version": 3
   },
   "file_extension": ".py",
   "mimetype": "text/x-python",
   "name": "python",
   "nbconvert_exporter": "python",
   "pygments_lexer": "ipython3",
   "version": "3.11.7"
  }
 },
 "nbformat": 4,
 "nbformat_minor": 2
}
