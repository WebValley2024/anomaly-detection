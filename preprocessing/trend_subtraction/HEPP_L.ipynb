{
 "cells": [
  {
   "cell_type": "code",
   "execution_count": 2,
   "metadata": {},
   "outputs": [],
   "source": [
    "import numpy as np\n",
    "import os\n",
    "import matplotlib.pyplot as plt\n",
    "import datetime\n",
    "import xarray as xr\n",
    "from scipy.optimize import curve_fit\n",
    "import pandas as pd\n",
    "from zarr import Blosc\n",
    "from functions import *\n",
    "\n",
    "START = 1577893961\n",
    "END = 1633042861"
   ]
  },
  {
   "cell_type": "code",
   "execution_count": 3,
   "metadata": {},
   "outputs": [],
   "source": [
    "data = xr.open_zarr(\"/home/grp3/gil/merged/HEPP_L.zarr.zip\")\n",
    "data = drop_unwanted_data(data, START)\n",
    "range_data = drop_unwanted_data(data, end=END)\n",
    "data = data.sortby(\"TIME\")\n",
    "arr = block_coordinates(data)\n",
    "range_arr = block_coordinates(range_data)"
   ]
  },
  {
   "cell_type": "code",
   "execution_count": null,
   "metadata": {},
   "outputs": [],
   "source": [
    "# A411, A412, Count_Electron_*, Count_Proton_*"
   ]
  },
  {
   "cell_type": "code",
   "execution_count": 7,
   "metadata": {},
   "outputs": [],
   "source": [
    "# block = arr[5][5]\n",
    "# time = data[\"TIME\"][block].data\n",
    "# count = data[\"A411_0_0\"][block].data\n",
    "# resampled_time, resampled_counts = resample(time, count, \"1d\")\n",
    "\n",
    "# plt.figure(figsize=(15, 5))\n",
    "# plt.scatter(resampled_time, resampled_counts, s=3)\n",
    "# plt.title(\"A411_0_0 spectrum in block 5,5 before background subtraction\")\n",
    "# plt.xlabel(\"Time\")\n",
    "# plt.ylabel(\"Spectrum\")\n",
    "# plt.show()"
   ]
  },
  {
   "cell_type": "code",
   "execution_count": 5,
   "metadata": {},
   "outputs": [],
   "source": [
    "# A411\n",
    "\n",
    "meadium_spectra_411 = meadium_spectra(range_data, range_arr, \"A411_\")\n",
    "subtract_medium_spectra(data, arr, meadium_spectra_411, \"A411_\")"
   ]
  },
  {
   "cell_type": "code",
   "execution_count": 8,
   "metadata": {},
   "outputs": [],
   "source": [
    "# block = arr[5][5]\n",
    "# time = data[\"TIME\"][block].data\n",
    "# count = data[\"A411_0_0\"][block].data\n",
    "# resampled_time, resampled_counts = resample(time, count, \"1d\")\n",
    "\n",
    "# plt.figure(figsize=(15, 5))\n",
    "# plt.scatter(resampled_time, resampled_counts, s=3)\n",
    "# plt.title(\"A411_0_0 spectrum in block 5,5 after background subtraction\")\n",
    "# plt.xlabel(\"Time\")\n",
    "# plt.ylabel(\"Spectrum\")\n",
    "# plt.show()"
   ]
  },
  {
   "cell_type": "code",
   "execution_count": null,
   "metadata": {},
   "outputs": [],
   "source": []
  },
  {
   "cell_type": "code",
   "execution_count": 9,
   "metadata": {},
   "outputs": [],
   "source": [
    "# A412\n",
    "\n",
    "meadium_spectra_412 = meadium_spectra(range_data, range_arr, \"A412_\")\n",
    "subtract_medium_spectra(data, arr, meadium_spectra_412, \"A412_\")"
   ]
  },
  {
   "cell_type": "code",
   "execution_count": 10,
   "metadata": {},
   "outputs": [],
   "source": [
    "# Count_Electron_*\n",
    "\n",
    "mean_electrons = count_bg(range_data, range_arr, \"Count_Electron_\", angles=9)\n",
    "subtract_count_bg(data, arr, mean_electrons, \"Count_Electron_\", angles=9)"
   ]
  },
  {
   "cell_type": "code",
   "execution_count": 11,
   "metadata": {},
   "outputs": [],
   "source": [
    "# Count_Proton_*\n",
    "\n",
    "mean_protons = count_bg(range_data, range_arr, \"Count_Proton_\", angles=9)\n",
    "subtract_count_bg(data, arr, mean_protons, \"Count_Proton_\", angles=9)"
   ]
  },
  {
   "cell_type": "code",
   "execution_count": 12,
   "metadata": {},
   "outputs": [],
   "source": [
    "# write_to_zarr(data, \"/home/grp3/rm_bg_4months/HEPP_L.zarr.zip\")"
   ]
  }
 ],
 "metadata": {
  "kernelspec": {
   "display_name": ".venv",
   "language": "python",
   "name": "python3"
  },
  "language_info": {
   "codemirror_mode": {
    "name": "ipython",
    "version": 3
   },
   "file_extension": ".py",
   "mimetype": "text/x-python",
   "name": "python",
   "nbconvert_exporter": "python",
   "pygments_lexer": "ipython3",
   "version": "3.11.7"
  }
 },
 "nbformat": 4,
 "nbformat_minor": 2
}
