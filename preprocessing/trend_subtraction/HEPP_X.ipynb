{
 "cells": [
  {
   "cell_type": "code",
   "execution_count": 1,
   "metadata": {},
   "outputs": [],
   "source": [
    "import numpy as np\n",
    "import os\n",
    "import matplotlib.pyplot as plt\n",
    "import datetime\n",
    "import xarray as xr\n",
    "from scipy.optimize import curve_fit\n",
    "import pandas as pd\n",
    "from zarr import Blosc\n",
    "from functions import *\n",
    "\n",
    "START = 1577893961\n",
    "END = 1633042861"
   ]
  },
  {
   "cell_type": "code",
   "execution_count": 2,
   "metadata": {},
   "outputs": [],
   "source": [
    "data = xr.open_zarr(\"/home/grp3/gil/merged/HEPP_X.zarr.zip\")\n",
    "data = drop_unwanted_data(data, START)\n",
    "range_data = drop_unwanted_data(data, end=END)\n",
    "data = data.sortby(\"TIME\")\n",
    "arr = block_coordinates(data)\n",
    "range_arr = block_coordinates(range_data)"
   ]
  },
  {
   "cell_type": "code",
   "execution_count": 2,
   "metadata": {},
   "outputs": [],
   "source": [
    "# XrayRate"
   ]
  },
  {
   "cell_type": "code",
   "execution_count": 4,
   "metadata": {},
   "outputs": [],
   "source": [
    "mean_XrayRate = count_bg(range_data, range_arr, \"XrayRate\")\n",
    "subtract_count_bg(data, arr, mean_XrayRate, \"XrayRate\")"
   ]
  },
  {
   "cell_type": "code",
   "execution_count": 5,
   "metadata": {},
   "outputs": [],
   "source": [
    "write_to_zarr(data, \"/home/grp3/rm_bg_4months/HEPP_X_tobe_improved.zarr.zip\")"
   ]
  }
 ],
 "metadata": {
  "kernelspec": {
   "display_name": ".venv",
   "language": "python",
   "name": "python3"
  },
  "language_info": {
   "codemirror_mode": {
    "name": "ipython",
    "version": 3
   },
   "file_extension": ".py",
   "mimetype": "text/x-python",
   "name": "python",
   "nbconvert_exporter": "python",
   "pygments_lexer": "ipython3",
   "version": "3.11.7"
  }
 },
 "nbformat": 4,
 "nbformat_minor": 2
}
